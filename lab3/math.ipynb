{
 "cells": [
  {
   "cell_type": "code",
   "execution_count": 2,
   "metadata": {},
   "outputs": [
    {
     "data": {
      "text/plain": [
       "        message: Optimization terminated successfully. (HiGHS Status 7: Optimal)\n",
       "        success: True\n",
       "         status: 0\n",
       "            fun: 22.0\n",
       "              x: [ 4.000e+00  3.000e+00  5.000e+00  4.000e+00  3.000e+00\n",
       "                   3.000e+00  0.000e+00]\n",
       "            nit: 6\n",
       "          lower:  residual: [ 4.000e+00  3.000e+00  5.000e+00  4.000e+00\n",
       "                              3.000e+00  3.000e+00  0.000e+00]\n",
       "                 marginals: [ 0.000e+00  0.000e+00  0.000e+00  0.000e+00\n",
       "                              0.000e+00  0.000e+00  3.333e-01]\n",
       "          upper:  residual: [       inf        inf        inf        inf\n",
       "                                    inf        inf        inf]\n",
       "                 marginals: [ 0.000e+00  0.000e+00  0.000e+00  0.000e+00\n",
       "                              0.000e+00  0.000e+00  0.000e+00]\n",
       "          eqlin:  residual: []\n",
       "                 marginals: []\n",
       "        ineqlin:  residual: [ 0.000e+00  0.000e+00  0.000e+00  0.000e+00\n",
       "                              0.000e+00  0.000e+00  4.000e+00]\n",
       "                 marginals: [-3.333e-01 -0.000e+00 -3.333e-01 -0.000e+00\n",
       "                             -3.333e-01 -3.333e-01 -0.000e+00]\n",
       " mip_node_count: 0\n",
       " mip_dual_bound: 0.0\n",
       "        mip_gap: 0.0"
      ]
     },
     "execution_count": 2,
     "metadata": {},
     "output_type": "execute_result"
    }
   ],
   "source": [
    "from scipy.optimize import linprog\n",
    "\n",
    "c = [1, 1, 1, 1, 1, 1, 1]\n",
    "\n",
    "A_ub = [[-1, 0, 0, -1, -1, -1, -1],\n",
    "        [-1, -1, 0, 0, -1, -1, -1],\n",
    "        [-1, -1, -1, 0, 0, -1, -1],\n",
    "        [-1, -1, -1, -1, 0, 0, -1],\n",
    "        [-1, -1, -1, -1, -1, 0, 0],\n",
    "        [0, -1, -1, -1, -1, -1, 0],\n",
    "        [0, 0, -1, -1, -1, -1, -1]]\n",
    "\n",
    "b_ub = [-14, -13, -15, -16, -19, -18, -11]\n",
    "\n",
    "res = linprog(c, A_ub, b_ub, bounds=(0, None))\n",
    "\n",
    "res"
   ]
  }
 ],
 "metadata": {
  "kernelspec": {
   "display_name": "Python 3",
   "language": "python",
   "name": "python3"
  },
  "language_info": {
   "codemirror_mode": {
    "name": "ipython",
    "version": 3
   },
   "file_extension": ".py",
   "mimetype": "text/x-python",
   "name": "python",
   "nbconvert_exporter": "python",
   "pygments_lexer": "ipython3",
   "version": "3.9.6"
  },
  "orig_nbformat": 4
 },
 "nbformat": 4,
 "nbformat_minor": 2
}
