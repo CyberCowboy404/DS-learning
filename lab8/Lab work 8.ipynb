{
 "cells": [
  {
   "attachments": {},
   "cell_type": "markdown",
   "metadata": {},
   "source": [
    "___\n",
    "\n",
    "<a href='https://mainacademy.ua/'> <img src='https://mainacademy.ua/wp-content/uploads/2019/03/logo-main.png' alt = 'Хмм, щось з інтернетом'/></a>\n",
    "___\n",
    "\n",
    "# Module 8: Unsupervised learning"
   ]
  },
  {
   "attachments": {},
   "cell_type": "markdown",
   "metadata": {},
   "source": [
    "## Lab work 8\n",
    "\n"
   ]
  },
  {
   "attachments": {},
   "cell_type": "markdown",
   "metadata": {},
   "source": [
    "#### Мета: \n",
    "\n",
    "* навчитися використовувати моделі без учителем"
   ]
  },
  {
   "attachments": {},
   "cell_type": "markdown",
   "metadata": {},
   "source": [
    "### Завдання 1:"
   ]
  },
  {
   "attachments": {},
   "cell_type": "markdown",
   "metadata": {},
   "source": [
    "Опрацюйте файл `Groceries.csv`. Використовуючи алгоритм асоціативних зв'язків, знайдіть:\n",
    "- зробіть описову статистику даного файлу\n",
    "- ведіть топ-3 продукти, що продаються\n",
    "- виведіть топ-2 пари продуктів, що продаються\n",
    "- придумайте, як отриману інформацію можна використатти (опишіть в 3-4 реченнях)"
   ]
  },
  {
   "cell_type": "code",
   "execution_count": 37,
   "metadata": {},
   "outputs": [],
   "source": [
    "import pandas as pd\n",
    "\n",
    "df = pd.read_csv('groceries.csv')\n"
   ]
  },
  {
   "attachments": {},
   "cell_type": "markdown",
   "metadata": {},
   "source": [
    "### Stats"
   ]
  },
  {
   "cell_type": "code",
   "execution_count": 91,
   "metadata": {},
   "outputs": [
    {
     "name": "stdout",
     "output_type": "stream",
     "text": [
      "###Columns:\n",
      "Index(['Item(s)', 'Item 1', 'Item 2', 'Item 3', 'Item 4', 'Item 5', 'Item 6',\n",
      "       'Item 7', 'Item 8', 'Item 9', 'Item 10', 'Item 11', 'Item 12',\n",
      "       'Item 13', 'Item 14', 'Item 15', 'Item 16', 'Item 17', 'Item 18',\n",
      "       'Item 19', 'Item 20', 'Item 21', 'Item 22', 'Item 23', 'Item 24',\n",
      "       'Item 25', 'Item 26', 'Item 27', 'Item 28', 'Item 29', 'Item 30',\n",
      "       'Item 31', 'Item 32'],\n",
      "      dtype='object')\n",
      "###Shape:\n",
      "(9835, 33)\n",
      "###Describe:\n",
      "           Item(s)\n",
      "count  9835.000000\n",
      "mean      4.409456\n",
      "std       3.589385\n",
      "min       1.000000\n",
      "25%       2.000000\n",
      "50%       3.000000\n",
      "75%       6.000000\n",
      "max      32.000000\n"
     ]
    }
   ],
   "source": [
    "print('###Columns:')\n",
    "print(df.columns)\n",
    "print('###Shape:')\n",
    "print(df.shape)\n",
    "print('###Describe:')\n",
    "print(df.describe())"
   ]
  },
  {
   "cell_type": "code",
   "execution_count": 39,
   "metadata": {},
   "outputs": [
    {
     "name": "stdout",
     "output_type": "stream",
     "text": [
      "###Top 3 products:\n",
      "whole milk          2513\n",
      "other vegetables    1903\n",
      "rolls/buns          1809\n",
      "Name: Items, dtype: int64\n"
     ]
    }
   ],
   "source": [
    "df['Items'] = df.iloc[:, 1:].apply(lambda x: ' , '.join(x.dropna()), axis=1)\n",
    "\n",
    "clean_items = df['Items'].str.split(',').explode().str.strip()\n",
    "\n",
    "print('###Top 3 products:')\n",
    "print(clean_items.value_counts().head(3))\n"
   ]
  },
  {
   "cell_type": "code",
   "execution_count": 94,
   "metadata": {},
   "outputs": [
    {
     "name": "stdout",
     "output_type": "stream",
     "text": [
      "Most Frequent Itemsets:\n",
      "     support                        itemsets  length\n",
      "28  0.074835  (other vegetables, whole milk)       2\n",
      "29  0.056634        (rolls/buns, whole milk)       2\n",
      "30  0.056024            (yogurt, whole milk)       2\n",
      "\n",
      "Association Rules:\n"
     ]
    },
    {
     "data": {
      "text/html": [
       "<div>\n",
       "<style scoped>\n",
       "    .dataframe tbody tr th:only-of-type {\n",
       "        vertical-align: middle;\n",
       "    }\n",
       "\n",
       "    .dataframe tbody tr th {\n",
       "        vertical-align: top;\n",
       "    }\n",
       "\n",
       "    .dataframe thead th {\n",
       "        text-align: right;\n",
       "    }\n",
       "</style>\n",
       "<table border=\"1\" class=\"dataframe\">\n",
       "  <thead>\n",
       "    <tr style=\"text-align: right;\">\n",
       "      <th></th>\n",
       "      <th>antecedents</th>\n",
       "      <th>consequents</th>\n",
       "      <th>antecedent support</th>\n",
       "      <th>consequent support</th>\n",
       "      <th>support</th>\n",
       "      <th>confidence</th>\n",
       "      <th>lift</th>\n",
       "      <th>leverage</th>\n",
       "      <th>conviction</th>\n",
       "      <th>zhangs_metric</th>\n",
       "    </tr>\n",
       "  </thead>\n",
       "  <tbody>\n",
       "    <tr>\n",
       "      <th>0</th>\n",
       "      <td>(other vegetables)</td>\n",
       "      <td>(whole milk)</td>\n",
       "      <td>0.193493</td>\n",
       "      <td>0.255516</td>\n",
       "      <td>0.074835</td>\n",
       "      <td>0.386758</td>\n",
       "      <td>1.513634</td>\n",
       "      <td>0.025394</td>\n",
       "      <td>1.214013</td>\n",
       "      <td>0.420750</td>\n",
       "    </tr>\n",
       "    <tr>\n",
       "      <th>1</th>\n",
       "      <td>(whole milk)</td>\n",
       "      <td>(other vegetables)</td>\n",
       "      <td>0.255516</td>\n",
       "      <td>0.193493</td>\n",
       "      <td>0.074835</td>\n",
       "      <td>0.292877</td>\n",
       "      <td>1.513634</td>\n",
       "      <td>0.025394</td>\n",
       "      <td>1.140548</td>\n",
       "      <td>0.455803</td>\n",
       "    </tr>\n",
       "    <tr>\n",
       "      <th>2</th>\n",
       "      <td>(rolls/buns)</td>\n",
       "      <td>(whole milk)</td>\n",
       "      <td>0.183935</td>\n",
       "      <td>0.255516</td>\n",
       "      <td>0.056634</td>\n",
       "      <td>0.307905</td>\n",
       "      <td>1.205032</td>\n",
       "      <td>0.009636</td>\n",
       "      <td>1.075696</td>\n",
       "      <td>0.208496</td>\n",
       "    </tr>\n",
       "    <tr>\n",
       "      <th>3</th>\n",
       "      <td>(whole milk)</td>\n",
       "      <td>(rolls/buns)</td>\n",
       "      <td>0.255516</td>\n",
       "      <td>0.183935</td>\n",
       "      <td>0.056634</td>\n",
       "      <td>0.221647</td>\n",
       "      <td>1.205032</td>\n",
       "      <td>0.009636</td>\n",
       "      <td>1.048452</td>\n",
       "      <td>0.228543</td>\n",
       "    </tr>\n",
       "    <tr>\n",
       "      <th>4</th>\n",
       "      <td>(yogurt)</td>\n",
       "      <td>(whole milk)</td>\n",
       "      <td>0.139502</td>\n",
       "      <td>0.255516</td>\n",
       "      <td>0.056024</td>\n",
       "      <td>0.401603</td>\n",
       "      <td>1.571735</td>\n",
       "      <td>0.020379</td>\n",
       "      <td>1.244132</td>\n",
       "      <td>0.422732</td>\n",
       "    </tr>\n",
       "  </tbody>\n",
       "</table>\n",
       "</div>"
      ],
      "text/plain": [
       "          antecedents         consequents  antecedent support  \\\n",
       "0  (other vegetables)        (whole milk)            0.193493   \n",
       "1        (whole milk)  (other vegetables)            0.255516   \n",
       "2        (rolls/buns)        (whole milk)            0.183935   \n",
       "3        (whole milk)        (rolls/buns)            0.255516   \n",
       "4            (yogurt)        (whole milk)            0.139502   \n",
       "\n",
       "   consequent support   support  confidence      lift  leverage  conviction  \\\n",
       "0            0.255516  0.074835    0.386758  1.513634  0.025394    1.214013   \n",
       "1            0.193493  0.074835    0.292877  1.513634  0.025394    1.140548   \n",
       "2            0.255516  0.056634    0.307905  1.205032  0.009636    1.075696   \n",
       "3            0.183935  0.056634    0.221647  1.205032  0.009636    1.048452   \n",
       "4            0.255516  0.056024    0.401603  1.571735  0.020379    1.244132   \n",
       "\n",
       "   zhangs_metric  \n",
       "0       0.420750  \n",
       "1       0.455803  \n",
       "2       0.208496  \n",
       "3       0.228543  \n",
       "4       0.422732  "
      ]
     },
     "execution_count": 94,
     "metadata": {},
     "output_type": "execute_result"
    }
   ],
   "source": [
    "from mlxtend.preprocessing import TransactionEncoder\n",
    "from mlxtend.frequent_patterns import apriori, association_rules\n",
    "\n",
    "data = df.values.tolist()\n",
    "data = [[x for x in row if str(x) != 'nan'] for row in data]\n",
    "\n",
    "# at the first index data has length of all items, we want to remove it\n",
    "data = [row[1:] for row in data]\n",
    "# print(data)\n",
    "te = TransactionEncoder()\n",
    "te_ary = te.fit(data).transform(data)\n",
    "df_formatted = pd.DataFrame(te_ary, columns=te.columns_)\n",
    "\n",
    "df_formatted.to_csv('groceries_formatted.csv', index=False)\n",
    "\n",
    "# max_len=2 in order to get pairs, most products we already had without any ML\n",
    "frequent_itemsets = apriori(df_formatted, min_support=0.05, use_colnames=True, max_len=5)\n",
    "# Generate association rules\n",
    "rules = association_rules(frequent_itemsets, metric=\"confidence\", min_threshold=0.1)\n",
    "\n",
    "print(\"Most Frequent Itemsets:\")\n",
    "frequent_itemsets['length'] = frequent_itemsets['itemsets'].apply(lambda x: len(x))\n",
    "print(frequent_itemsets[frequent_itemsets['length'] > 1])\n",
    "frequent_itemsets.to_csv('frequent_itemsets.csv', index=False)\n",
    "\n",
    "# Print association rules\n",
    "print(\"\\nAssociation Rules:\")\n",
    "rules.to_csv('association_rules.csv', index=False)\n",
    "rules.head()"
   ]
  },
  {
   "attachments": {},
   "cell_type": "markdown",
   "metadata": {},
   "source": [
    "Із результатів моделі ми бачимо що самий популярний продукт це пастеризоване молоко\n",
    "\n",
    "Воно часто попадається в парі з овочами, булочками та йогуртами.\n",
    "Можна було би проводити експеримент далі, та перевіряти самі популярніші продукти в парі без молока. Але у такому випадку сильно малі метрики support, lift і іншого.\n",
    "\n",
    "Мені не хоітлося вибирати інщі продукти, бо по моїм відчуттям у них дуже низькі метрики, і вони не будуть показовими.\n",
    "\n",
    "Так-як завдання було вивести пари 2-х продуктів то ось висновок:\n",
    "Самі топові продукти це:\n",
    "- Овочі + Пастеризоване молоко - тут найбільша підтримка\n",
    "- Пастеризоване молоко + булочки\n",
    "- Пастеризоване молоко + йогурти\n",
    "\n",
    "З цього слідує:\n",
    "Можна робити акції, наприклад продавати молоко + якись продукт який вже давно лежить на складі, який треба продати. Так-як людям потрібне молоко вони використають знижку на нього + куплять продукт від якого треба здихатися.\n",
    "\n",
    "Такий трюк також можна спробувати з овочами, булочками та йогуртами.\n",
    "\n",
    "Також як варіант можна побачити які марки молока купують найчастіше, і замовляти їх більше, або навіть робити акції на них.\n",
    "Це саме можна зробит из овочами, подивитися які купують найбільше і моєливо відмовитися від тих які найменьше.\n",
    "\n",
    "Ще 1 висновок, так-як люди полюбляють булочки, а всі люди люблять щоб булочки були свіжими, можна робити рекламу, наприклад що свіжі булочки продаються в стільки то годин, і щоб люди в цей час приходили частіше щоб купити свіже, а у вечері продавати булочки по меньшій ціні, щоб не викидати їх.\n",
    "\n",
    "\n",
    "\n",
    "\n",
    "\n",
    "\n",
    "\n",
    "\n"
   ]
  },
  {
   "attachments": {},
   "cell_type": "markdown",
   "metadata": {},
   "source": [
    "### Завдання 2:"
   ]
  },
  {
   "attachments": {},
   "cell_type": "markdown",
   "metadata": {},
   "source": [
    "Завантажте файл https://www.kaggle.com/vjchoudhary7/customer-segmentation-tutorial-in-python\n",
    " \n",
    "- Спробуйте провести кластеризацію, тобто виділити цільові групи, для яких можна впроваджувати певні маркетингові акції\n",
    "- Опишіть отримані результати"
   ]
  },
  {
   "cell_type": "code",
   "execution_count": null,
   "metadata": {},
   "outputs": [],
   "source": []
  }
 ],
 "metadata": {
  "kernelspec": {
   "display_name": "Python 3",
   "language": "python",
   "name": "python3"
  },
  "language_info": {
   "codemirror_mode": {
    "name": "ipython",
    "version": 3
   },
   "file_extension": ".py",
   "mimetype": "text/x-python",
   "name": "python",
   "nbconvert_exporter": "python",
   "pygments_lexer": "ipython3",
   "version": "3.9.6"
  }
 },
 "nbformat": 4,
 "nbformat_minor": 2
}
