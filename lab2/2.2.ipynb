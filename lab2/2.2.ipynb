{
 "cells": [
  {
   "cell_type": "code",
   "execution_count": 92,
   "metadata": {},
   "outputs": [
    {
     "name": "stdout",
     "output_type": "stream",
     "text": [
      "Min is: 0\n",
      "Max is: 7\n"
     ]
    }
   ],
   "source": [
    "#Для трьох введених натуральних чисел (користувач вводить числа через пробіл) знайдіть мінімальне та максимальне\n",
    "\n",
    "numbers = input(\"Enter numbers. Separate by space\")\n",
    "\n",
    "\n",
    "def get_min_max_from_input(numbers_string):\n",
    "  numbers_list = numbers_string.split()\n",
    "  int_list = [int(i) for i in numbers_list]\n",
    "  print(f'Min is: {min(int_list)}')\n",
    "  print(f'Max is: {max(int_list)}')\n",
    "\n",
    "get_min_max_from_input(numbers)\n"
   ]
  },
  {
   "cell_type": "code",
   "execution_count": 22,
   "metadata": {},
   "outputs": [
    {
     "name": "stdout",
     "output_type": "stream",
     "text": [
      "Sportsman is to old\n"
     ]
    }
   ],
   "source": [
    "# Програма приймає на вхід два параметри: стать спортсмена(`sex = (f, m)`) та вік спортсмена(`age = [0,100]`).  Спортсмен-дівчина може брати участь у змаганні, якщо її вік більший 18, спортсмен-хлопець - якщо вік більший 16\n",
    "# Якщо введеніть не коректні дані, виведіть повідомлення про помилку\n",
    "\n",
    "sportsman_sex = input(\"Enter sportsman state: M(for male) or F(for Female)\")\n",
    "sportsman_age = float(input(\"Enter sportsman age\"))\n",
    "\n",
    "\n",
    "def check_sportsman(age, sex):\n",
    "  _sex = str.lower(sex)\n",
    "  result = ''\n",
    "\n",
    "  if _sex == 'f':\n",
    "      result = check_female(age)\n",
    "  elif _sex == 'm':\n",
    "      result = check_male(age)\n",
    "  else:\n",
    "      result = 'Enter correct state'\n",
    "\n",
    "  if age >= 100:\n",
    "    result = 'Sportsman is to old'\n",
    "\n",
    "  return result\n",
    "\n",
    "\n",
    "def check_male(age):\n",
    "  return 'Male sportsman is to young' if age < 18 else 'Male sportsman is able to take part in competition'\n",
    "\n",
    "def check_female(age):\n",
    "  return 'Female sportsman is to young' if age < 16 else 'Female sportsman is able to take part in competition'\n",
    "\n",
    "\n",
    "print(check_sportsman(sportsman_age, sportsman_sex))\n"
   ]
  },
  {
   "cell_type": "code",
   "execution_count": 30,
   "metadata": {},
   "outputs": [
    {
     "name": "stdout",
     "output_type": "stream",
     "text": [
      "&\n",
      "&&\n",
      "&&&\n",
      "&&&&\n",
      "&&&&&\n"
     ]
    }
   ],
   "source": [
    "#Для введеного натурального числа побудуйте драбинку. \n",
    "\n",
    "N = int(input('Enter natural number'))\n",
    "\n",
    "for number in range(N):\n",
    "  print('&' * (number + 1))\n",
    "\n"
   ]
  },
  {
   "cell_type": "code",
   "execution_count": 37,
   "metadata": {},
   "outputs": [
    {
     "name": "stdout",
     "output_type": "stream",
     "text": [
      "['My', 'favourite', 'tutor', 'in', 'academy', 'is', 'Ihor']\n",
      "My - length is: 2\n",
      "favourite - length is: 9\n",
      "tutor - length is: 5\n",
      "in - length is: 2\n",
      "academy - length is: 7\n",
      "is - length is: 2\n",
      "Ihor - length is: 4\n"
     ]
    }
   ],
   "source": [
    "# Із заданого речення виведіть кожне слово і його довжину\n",
    "\n",
    "sentence = 'My favourite tutor in academy is Ihor'\n",
    "\n",
    "print(sentence.split())\n",
    "\n",
    "for index, value in enumerate(sentence.split()):\n",
    "  print(value + f\" - length is: {len(value)}\")"
   ]
  },
  {
   "cell_type": "code",
   "execution_count": 112,
   "metadata": {},
   "outputs": [
    {
     "name": "stdout",
     "output_type": "stream",
     "text": [
      "All words count is: 537\n",
      "Uniq words count: 353\n",
      "Top word № 1 is \"дід\" repeats 10 times \n",
      "Top word № 2 is \"він\" repeats 10 times \n",
      "Top word № 3 is \"коли\" repeats 6 times \n"
     ]
    }
   ],
   "source": [
    "# Для заданого тексту реалізуйте:\n",
    "# * Знайдіть кількість слів\n",
    "# * Знайдіть кількість унікальних слів\n",
    "# * Своірть словник, де ключе буде слово із тексту, значенням - частота зустрічання в тексті\n",
    "# * Виведіть топ-3 слів, що найчастіше зустрічаються\n",
    "\n",
    "# Вважаємо, що слово це стрічка з трьох і більше букв, очищена від знаків пунктуації\n",
    "\n",
    "text = \"\"\"До чого ж гарно і весело було в нашому горóді! Ото як вийти з сіней та подивись навколо — геть-чисто все зелене та буйне. А сад було як зацвіте весною! А що робилось на початку літа — огірки цвітуть, гарбузи цвітуть, картопля цвіте. Цвіте малина, смородина, тютюн, квасоля. А соняшника, а маку, буряків, лободи, укропу, моркви! Чого тільки не насадить наша невгамовна мати.\n",
    "\n",
    "— Нічого в світі так я не люблю, як саджати що-небудь у землю, щоб проізростало. Коли вилізає з землі всяка рослиночка, ото мені радість,— любила проказувати вона.\n",
    "\n",
    "Город до того переповнявсь рослинами, що десь серед літа вони вже не вміщалися в ньому. Вони лізли одна на одну, переплітались, душились, дерлися на хлів, на стріху, повзли на тин, а гарбузи звисали з тину прямо на вулицю.\n",
    "\n",
    "А малини — красної, білої! А вишень, а груш солодких, було. як наїсися,— цілий день живіт як бубон.\n",
    "\n",
    "І росло ще, пригадую, багато тютюну, в якому ми, маленькі, ходили, мов у лісі, в якому пізнали перші мозолі на дитячих руках.\n",
    "\n",
    "А вздовж тину, за старою повіткою, росли великі кущі смородини, бузини і ще якихось невідомих рослин. Там неслися кури нишком од матері і різне дрібне птаство. Туди ми рідко лазили. Там було темно навіть удень, і ми боялись гадюки. Хто з нас у дитинстві не боявся гадюки, так за все життя й не побачивши її ніде?\n",
    "\n",
    "Коло хати, що стояла в саду, цвіли квіти, а за хатою, проти сінешніх дверей, коло вишень,— поросла полином стара погребня з одкритою лядою, звідки завжди пахло цвіллю. Там, у льоху, в присмерку плигали жаби. Напевно, там водилися й гадюки.\n",
    "\n",
    "На погребні любив спати дід.\n",
    "\n",
    "У нас був дід дуже схожий на бога. Коли я молився богу, я завжди бачив на покуті портрет діда в старих срібнофольгових шатах, а сам дід лежав на печі і тихо кашляв, слухаючи своїх молитов.\n",
    "\n",
    "У неділю перед богами горіла маленька синенька лампадка, в яку завжди набиралось повно мух. Образ святого Миколая також був схожий на діда, особливо коли дід часом підстригав собі бороду і випивав перед обідом чарку горілки з перцем, і мати не лаялась. Святий Федосій більш скидався на батька. Федосію я не молився, в нього була ще темна борода, а в руці гирлига, одягнена чомусь у білу хустку. А от бог, схожий на діда, той тримав в одній руці круглу сільничку, а трьома пýчками другої неначе збирався взяти зубок часнику\n",
    "Звали нашого діда, як я вже потім довідавсь, Семеном. Він був високий і худий, і чоло в нього високе, хвилясте довге волосся сиве, а борода біла. І була в нього велика грижа ще з молодих чумацьких літ. Пахнув дід теплою землею і трохи млином. Він був письменний по-церковному і в неділю любив урочисто читати псалтир. Ні дід, ні ми не розуміли прочитаного, і це завжди хвилювало нас, як дивна таємниця, що надавала прочитаному особливого, небуденного смислу.\n",
    "\n",
    "Мати ненавиділа діда і вважала його за чорнокнижника. Ми не вірили матері і захищали діда од її нападів, бо псалтир всередині був не чорний, а білий, а товста шкіряна палітурка — коричнева, як гречаний мед чи стара халява. Зрештою, мати крадькома таки знищила псалтир. Вона спалила його в печі по одному листочку, боячись палити зразу весь, щоб він часом не вибухнув і не розніс печі.\n",
    "\n",
    "Любив дід гарну бесіду й добре слово. Часом по дорозі на луг, коли хто питав у нього дорогу на Борзну чи на Батурин, він довго стояв посеред шляху і, махаючи пужалном, гукав услід подорожньому:\n",
    "\n",
    "— Прямо, та й прямо, та й прямо, та й нікуди ж не звертайте!.. Добра людина поїхала, дай їй бог здоров'я,— зітхав він лагідно, коли подорожній нарешті зникав у кущах.\n",
    "\n",
    "— А хто вона, діду, людина ота? Звідки вона?\n",
    "\n",
    "— А бог її знає, хіба я знаю... Ну, чого стоїш як укопаний? — звертався дід до коня, сідаючи на воза.— Но, трогай-бо, ну...\n",
    "\n",
    "Він був наш добрий дух лугу і риби. Гриби й ягоди збирав він у лісі краще за нас усіх і розмовляв з кіньми, з телятами, з травами, з старою грушею і дубом — з усім живим, що росло і рухалось навколо.\n",
    "Більш за все на світі любив дід сонце. Він прожив під сонцем коло ста літ, ніколи не ховаючись у холодок. Так під сонцем на погребні, коло яблуні, він і помер, коли прийшов його час.\n",
    "\n",
    "Дід любив кашляти. Кашляв він часом так довго й гучно, що скільки ми не старалися, ніхто не міг його як слід передражнити. Його кашель чув увесь куток. Старі люди по дідовому кашлю вгадували навіть погоду.\n",
    "\"\"\"\n",
    "\n",
    "\n",
    "def clear_word(word):\n",
    "  return ''.join(e for e in word if e.isalnum())\n",
    "\n",
    "def clear_list_from_punctuations(list_to_clear):\n",
    "  return [clear_word(str.lower(element)) for element in list_to_clear]\n",
    "\n",
    "def remove_short_word_from_list(list_to_check, count = 3):\n",
    "  return [x for x in list_to_check if len(x) >= count]\n",
    "\n",
    "def get_all_words(text):\n",
    "  uniq_words = clear_list_from_punctuations(text.split())\n",
    "  removed_short_words = remove_short_word_from_list(uniq_words)\n",
    "\n",
    "  return removed_short_words\n",
    "\n",
    "def get_uniq_words(text):\n",
    "  uniq_words = set(clear_list_from_punctuations(text.split()))\n",
    "  removed_short_words = remove_short_word_from_list(uniq_words)\n",
    "\n",
    "  return removed_short_words\n",
    "\n",
    "def get_uniq_words_count(text_dict):\n",
    "  uniq_words_count = 0\n",
    "  for key, value in text_dict.items():\n",
    "    if value == 1:\n",
    "      uniq_words_count += 1\n",
    "\n",
    "  return uniq_words_count\n",
    "\n",
    "def get_text_info(text):\n",
    "  result = {}\n",
    "  for value in text:\n",
    "    if value not in result:\n",
    "      result[value] = 1\n",
    "    else:\n",
    "      result[value] += 1\n",
    "  \n",
    "  return dict(sorted(result.items(), key=lambda item: item[-1], reverse=True))\n",
    "\n",
    "def show_top_words(text_info, times = 3):\n",
    "  for index, (key, value) in enumerate(list(text_info.items())[:times]):\n",
    "    print(f'Top word № {index + 1} is \"{key}\" repeats {value} times ')\n",
    "\n",
    "text_info_dict = get_text_info(get_all_words(text))\n",
    "\n",
    "print(f'All words count is: {len(get_all_words(text))}')\n",
    "\n",
    "print(f'Uniq words count: {get_uniq_words_count(text_info_dict)}')\n",
    "\n",
    "show_top_words(text_info_dict)\n",
    "\n"
   ]
  },
  {
   "cell_type": "code",
   "execution_count": 158,
   "metadata": {},
   "outputs": [
    {
     "name": "stdout",
     "output_type": "stream",
     "text": [
      "{'min': 0, 'max': 100}\n",
      "average: 49\n",
      "median: 51\n",
      "occurrences: {33: 17, 42: 16, 22: 16, 71: 16, 10: 16, 80: 15, 20: 15, 59: 15, 21: 14, 57: 14, 53: 14, 95: 13, 88: 13, 99: 13, 11: 13, 46: 13, 51: 13, 13: 13, 44: 13, 77: 12, 62: 12, 49: 12, 97: 12, 24: 12, 81: 12, 64: 12, 6: 12, 69: 12, 58: 12, 79: 12, 19: 11, 30: 11, 61: 11, 17: 11, 5: 11, 92: 11, 56: 11, 47: 11, 3: 11, 75: 11, 32: 11, 96: 11, 94: 10, 65: 10, 2: 10, 39: 10, 60: 10, 15: 10, 8: 10, 16: 10, 100: 10, 18: 10, 50: 10, 52: 10, 27: 10, 84: 10, 55: 10, 35: 9, 78: 9, 86: 9, 93: 9, 89: 9, 43: 9, 90: 9, 68: 9, 67: 9, 25: 9, 12: 9, 70: 9, 1: 9, 87: 9, 31: 8, 91: 8, 23: 8, 9: 8, 74: 8, 54: 8, 26: 8, 98: 8, 73: 7, 41: 7, 34: 7, 48: 7, 72: 7, 66: 7, 7: 7, 4: 7, 40: 7, 45: 6, 0: 6, 36: 6, 29: 6, 28: 5, 76: 5, 14: 5, 82: 4, 38: 4, 83: 4, 37: 4, 63: 3, 85: 3}\n",
      "math square error: 29.146852317188557\n"
     ]
    }
   ],
   "source": [
    "# Напишіть функції, що:\n",
    "# * рохраховує мінімальне та максимальне значення\n",
    "# * середнє значення послідовності\n",
    "# * медіану послідовності\n",
    "# * частоту кожної цифри в послідовності\n",
    "# * середнє квадратичне відхилення\n",
    "\n",
    "# Послідовність чисел ганеруємо рандомно\n",
    "\n",
    "\n",
    "import random\n",
    "import math\n",
    "\n",
    "#генеруэмо тисячу чисел в діапазоні від 0 до 10\n",
    "list_with_random_numbers = [random.randint(0,100) for i in range(1000)]\n",
    "\n",
    "def get_min_and_max_from_list(num_list):\n",
    "  return {\n",
    "      'min': min(num_list),\n",
    "      'max': max(num_list)\n",
    "  }\n",
    "\n",
    "def get_num_list_average(num_list):\n",
    "  list_num_sum = sum(num_list)\n",
    "  list_len = len(num_list)\n",
    "  average = list_num_sum // list_len\n",
    "\n",
    "  return average\n",
    "\n",
    "def find_median_from_list(num_list):\n",
    "  sorted_list = sorted(num_list)\n",
    "  list_half = len(num_list) // 2\n",
    "  median = sorted_list[list_half]\n",
    "  \n",
    "  return median\n",
    "\n",
    "def count_num_list_occurence(num_list):\n",
    "  result = {}\n",
    "  for value in num_list:\n",
    "    if value not in result:\n",
    "      result[value] = 1\n",
    "    else:\n",
    "      result[value] += 1\n",
    "\n",
    "  return dict(sorted(result.items(), key=lambda item: item[-1], reverse=True))\n",
    "\n",
    "def mean_squared_error(num_list):\n",
    "  average = get_num_list_average(num_list)\n",
    "  sum = 0\n",
    "  for value in num_list:\n",
    "    sum += (value - average) ** 2\n",
    "\n",
    "  deviation = math.sqrt(sum / len(num_list))\n",
    "  return deviation\n",
    "\n",
    "\n",
    "print(get_min_and_max_from_list(list_with_random_numbers))\n",
    "print(f'average: {get_num_list_average(list_with_random_numbers)}')\n",
    "print(f'median: {find_median_from_list(list_with_random_numbers)}')\n",
    "print(f'occurrences: {count_num_list_occurence(list_with_random_numbers)}')\n",
    "print(f'mean square error: {mean_squared_error(list_with_random_numbers)}')\n"
   ]
  }
 ],
 "metadata": {
  "kernelspec": {
   "display_name": "Python 3",
   "language": "python",
   "name": "python3"
  },
  "language_info": {
   "codemirror_mode": {
    "name": "ipython",
    "version": 3
   },
   "file_extension": ".py",
   "mimetype": "text/x-python",
   "name": "python",
   "nbconvert_exporter": "python",
   "pygments_lexer": "ipython3",
   "version": "3.10.3"
  },
  "orig_nbformat": 4,
  "vscode": {
   "interpreter": {
    "hash": "949777d72b0d2535278d3dc13498b2535136f6dfe0678499012e853ee9abcab1"
   }
  }
 },
 "nbformat": 4,
 "nbformat_minor": 2
}
