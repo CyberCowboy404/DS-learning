{
 "cells": [
  {
   "attachments": {},
   "cell_type": "markdown",
   "metadata": {},
   "source": [
    "___\n",
    "\n",
    "<a href='https://mainacademy.ua/'> <img src='https://mainacademy.ua/wp-content/uploads/2019/03/logo-main.png' alt = 'Хмм, щось з інтернетом'/></a>\n",
    "___\n",
    "\n",
    "# Module 4: Work with data professionally!"
   ]
  },
  {
   "cell_type": "markdown",
   "metadata": {},
   "source": [
    "## Lab work 4\n",
    "\n"
   ]
  },
  {
   "cell_type": "markdown",
   "metadata": {},
   "source": [
    "#### Мета: \n",
    "\n",
    "* навчитися обробляти дані\n",
    "* \"парсити\" сайти"
   ]
  },
  {
   "cell_type": "markdown",
   "metadata": {},
   "source": [
    "### Завдання 1:"
   ]
  },
  {
   "attachments": {},
   "cell_type": "markdown",
   "metadata": {},
   "source": [
    "#### Ознайомитися із API Національного банку \n",
    "https://bank.gov.ua/ua/open-data/api-dev\n",
    "\n"
   ]
  },
  {
   "cell_type": "markdown",
   "metadata": {},
   "source": [
    "1. Підключитися до API.\n"
   ]
  },
  {
   "cell_type": "code",
   "execution_count": 192,
   "metadata": {},
   "outputs": [],
   "source": [
    "import requests\n",
    "import json\n",
    "import datetime\n",
    "import pprint\n",
    "import math\n",
    "import pickle\n",
    "\n",
    "pp = pprint.PrettyPrinter(sort_dicts=True)\n",
    "\n",
    "def get_exchange_rate_for_period(start, end, currency = 'usd'):\n",
    "  return requests.get(f'https://bank.gov.ua/NBU_Exchange/exchange_site?start={start}&end={end}&valcode={currency}&sort=exchangedate&order=asc&json')\n",
    "\n",
    "def get_average(data):\n",
    "  result = sum(row['rate_per_unit'] for row in data) / len(data)\n",
    "  return round(result, 2)"
   ]
  },
  {
   "cell_type": "markdown",
   "metadata": {},
   "source": [
    "2. Отримати курс долара за останній рік."
   ]
  },
  {
   "cell_type": "code",
   "execution_count": 152,
   "metadata": {},
   "outputs": [
    {
     "name": "stdout",
     "output_type": "stream",
     "text": [
      "Usd average for the priod: 2022-03-06 - 2023-03-06 is 33.83\n"
     ]
    }
   ],
   "source": [
    "date_format = '%Y%m%d'\n",
    "date_formatted = '%Y-%m-%d'\n",
    "current_date = datetime.datetime.now().strftime(date_format)\n",
    "\n",
    "year_ago = datetime.datetime.now() - datetime.timedelta(days=365)\n",
    "year_ago_formatted = year_ago.strftime(date_format)\n",
    "\n",
    "usd_data = get_exchange_rate_for_period(year_ago_formatted, current_date).json()\n",
    "usd_price_for_year = get_average(usd_data)\n",
    "\n",
    "# print(json.dumps(usd_data, indent=4))\n",
    "print(f'Usd average for the priod: {year_ago.strftime(date_formatted)} - {datetime.datetime.now().strftime(date_formatted)} is {usd_price_for_year}')"
   ]
  },
  {
   "cell_type": "markdown",
   "metadata": {},
   "source": [
    "3. Вивести середнє значення та відхилення курсу за кожний місяць."
   ]
  },
  {
   "cell_type": "code",
   "execution_count": 205,
   "metadata": {},
   "outputs": [],
   "source": [
    "months_dict = {}\n",
    "usd_average_months = {}\n",
    "period = 12\n",
    "\n",
    "def get_previous_month_date(today):\n",
    "  first = today.replace(day=1)\n",
    "  last_month = first - datetime.timedelta(days=1)\n",
    "  return last_month\n",
    "\n",
    "current = datetime.datetime.now()\n",
    "previous = ''\n",
    "\n",
    "for i in range(period):\n",
    "  previous = get_previous_month_date(current)\n",
    "  previous_start = previous.replace(day=1).strftime(date_format)\n",
    "  previous_end = previous.strftime(date_format)\n",
    "  start_format = previous.replace(day=1).strftime(date_formatted)\n",
    "  end_format = previous.strftime(date_formatted)\n",
    "\n",
    "  months_dict[f'{start_format} - {end_format}'] = get_exchange_rate_for_period(f'{previous_start}', f'{previous_end}').json()\n",
    "  \n",
    "  current = previous\n",
    "\n",
    "average = 0\n",
    "\n",
    "for key, value in months_dict.items():\n",
    "  usd_average_months[key] = get_average(value)\n",
    "  average += get_average(value)\n",
    "\n",
    "usd_average_price = average / len(months_dict)\n",
    "\n",
    "average_prices_sum = 0\n",
    "\n",
    "for key, value in usd_average_months.items():\n",
    "  average_prices_sum += (value - usd_average_price) ** 2\n",
    "\n",
    "deviation = math.sqrt(average_prices_sum / len(usd_average_months))\n",
    "\n",
    "usd_average_months.update({'deviation': round(deviation, 2)})\n"
   ]
  },
  {
   "cell_type": "markdown",
   "metadata": {},
   "source": [
    "4. Дану інформацію записати у файл за допомогою pickle."
   ]
  },
  {
   "cell_type": "code",
   "execution_count": 206,
   "metadata": {},
   "outputs": [
    {
     "name": "stdout",
     "output_type": "stream",
     "text": [
      "{'2022-03-01 - 2022-03-31': 29.25,\n",
      " '2022-04-01 - 2022-04-30': 29.25,\n",
      " '2022-05-01 - 2022-05-31': 29.25,\n",
      " '2022-06-01 - 2022-06-30': 29.25,\n",
      " '2022-07-01 - 2022-07-31': 31.85,\n",
      " '2022-08-01 - 2022-08-31': 36.57,\n",
      " '2022-09-01 - 2022-09-30': 36.57,\n",
      " '2022-10-01 - 2022-10-31': 36.57,\n",
      " '2022-11-01 - 2022-11-30': 36.57,\n",
      " '2022-12-01 - 2022-12-31': 36.57,\n",
      " '2023-01-01 - 2023-01-31': 36.57,\n",
      " '2023-02-01 - 2023-02-28': 36.57,\n",
      " 'deviation': 3.42}\n"
     ]
    }
   ],
   "source": [
    "with open('./usd_price_info.pickle', 'wb') as handle:\n",
    "  pickle.dump(usd_average_months, handle, protocol=pickle.HIGHEST_PROTOCOL)\n",
    "\n",
    "with open('./usd_price_info.pickle', 'rb') as handle:\n",
    "  pickle_data = pickle.load(handle)\n",
    "\n",
    "pp.pprint(pickle_data)"
   ]
  },
  {
   "cell_type": "markdown",
   "metadata": {},
   "source": [
    "### Завдання 2:"
   ]
  },
  {
   "cell_type": "markdown",
   "metadata": {},
   "source": [
    "Потрібно проаналізувати всі товари на сайті: \n",
    "https://smallpacking.agrosem.ua/shop/"
   ]
  },
  {
   "cell_type": "markdown",
   "metadata": {},
   "source": [
    "Створіть базу даних, що містить таблицю із такими стовбцями: \n",
    "    - артикул товару\n",
    "    - найменування\n",
    "    - ціна \n",
    "    - вага"
   ]
  },
  {
   "cell_type": "code",
   "execution_count": null,
   "metadata": {},
   "outputs": [],
   "source": []
  },
  {
   "cell_type": "markdown",
   "metadata": {},
   "source": [
    "### Завдання 3: "
   ]
  },
  {
   "cell_type": "markdown",
   "metadata": {},
   "source": [
    "Ознайомтеся із роботою SQLite та відповідним модулем у Python.\n",
    "Завантажте базу даних для виконання лабораторної роботи.\n",
    "Підключіться до завантаженої бази SQLite."
   ]
  },
  {
   "cell_type": "markdown",
   "metadata": {},
   "source": [
    "1. Виведіть інформацію про дану базу."
   ]
  },
  {
   "cell_type": "code",
   "execution_count": null,
   "metadata": {},
   "outputs": [],
   "source": []
  },
  {
   "cell_type": "markdown",
   "metadata": {},
   "source": [
    "2. Виведіть перелік всіх таблиць."
   ]
  },
  {
   "cell_type": "code",
   "execution_count": null,
   "metadata": {},
   "outputs": [],
   "source": []
  },
  {
   "attachments": {},
   "cell_type": "markdown",
   "metadata": {},
   "source": [
    "3. Список всіх cust_id з таблиці Customers table."
   ]
  },
  {
   "cell_type": "code",
   "execution_count": null,
   "metadata": {},
   "outputs": [],
   "source": []
  },
  {
   "attachments": {},
   "cell_type": "markdown",
   "metadata": {},
   "source": [
    "4. Всю таблицю Customers table"
   ]
  },
  {
   "cell_type": "code",
   "execution_count": null,
   "metadata": {},
   "outputs": [],
   "source": []
  },
  {
   "attachments": {},
   "cell_type": "markdown",
   "metadata": {},
   "source": [
    "5. Список клієнтів (cust_names) відсортованих від Z до A"
   ]
  },
  {
   "cell_type": "code",
   "execution_count": null,
   "metadata": {},
   "outputs": [],
   "source": []
  },
  {
   "cell_type": "markdown",
   "metadata": {},
   "source": [
    "6. Таблицю клієнтів та замовлень (cust_id і order_num) . Відсортуйте по клієнту і потім по даті замовлення"
   ]
  },
  {
   "cell_type": "code",
   "execution_count": null,
   "metadata": {},
   "outputs": [],
   "source": []
  },
  {
   "cell_type": "markdown",
   "metadata": {},
   "source": [
    "7. Таблицю (на основі Items) з кількість та вартістю товару. Відсортуйте в порядку спадання по кількості та вартості"
   ]
  },
  {
   "cell_type": "code",
   "execution_count": null,
   "metadata": {},
   "outputs": [],
   "source": []
  },
  {
   "cell_type": "markdown",
   "metadata": {},
   "source": [
    "8. Товар (з таблиці Products), ціна якого становить 9.49"
   ]
  },
  {
   "cell_type": "code",
   "execution_count": null,
   "metadata": {},
   "outputs": [],
   "source": []
  },
  {
   "cell_type": "markdown",
   "metadata": {},
   "source": [
    "9. Виведіть назву товару та ціну, яка лежить в діапазоні від  3 до 6. Відсортуйте результат в по ціні в порядку зростання"
   ]
  },
  {
   "cell_type": "code",
   "execution_count": null,
   "metadata": {},
   "outputs": [],
   "source": []
  },
  {
   "cell_type": "markdown",
   "metadata": {},
   "source": [
    "10. Кількість товару, що було продано"
   ]
  },
  {
   "cell_type": "code",
   "execution_count": null,
   "metadata": {},
   "outputs": [],
   "source": []
  },
  {
   "cell_type": "markdown",
   "metadata": {},
   "source": [
    "11. Кількість найменувань товару, ціна якого більша за 4"
   ]
  },
  {
   "cell_type": "code",
   "execution_count": null,
   "metadata": {},
   "outputs": [],
   "source": []
  },
  {
   "cell_type": "markdown",
   "metadata": {},
   "source": [
    "12. Розробіть алгоритм для виведення 3 найдорожчих товарів в базі"
   ]
  },
  {
   "cell_type": "code",
   "execution_count": null,
   "metadata": {},
   "outputs": [],
   "source": []
  },
  {
   "cell_type": "markdown",
   "metadata": {},
   "source": [
    "13. Підрахуйте кількість замовлень для кожного клієнта використовуючи підзапити"
   ]
  },
  {
   "cell_type": "code",
   "execution_count": null,
   "metadata": {},
   "outputs": [],
   "source": []
  },
  {
   "cell_type": "markdown",
   "metadata": {},
   "source": [
    "14. Виведіть список клієнтів та їх замовлення (використайте JOIN)"
   ]
  },
  {
   "cell_type": "code",
   "execution_count": null,
   "metadata": {},
   "outputs": [],
   "source": []
  },
  {
   "cell_type": "markdown",
   "metadata": {},
   "source": [
    "15. Зробіть два запити: список товарів, ціна яких менша 5 та список товарів, ціна який більша рівна 5. Використайте UNION для об'єднання цих запитів"
   ]
  },
  {
   "cell_type": "code",
   "execution_count": null,
   "metadata": {},
   "outputs": [],
   "source": []
  },
  {
   "cell_type": "markdown",
   "metadata": {},
   "source": [
    "### Завдання 4: "
   ]
  },
  {
   "attachments": {},
   "cell_type": "markdown",
   "metadata": {},
   "source": [
    "Зареєструйтеся на сайті  http://www.sql-ex.ru/\n",
    "\n",
    "Виконайте завдання із блоку SELECT; з 1 по 30 завдання\n",
    "\n",
    "Код запитів вставляйте сюди\n"
   ]
  },
  {
   "cell_type": "code",
   "execution_count": null,
   "metadata": {},
   "outputs": [],
   "source": []
  }
 ],
 "metadata": {
  "kernelspec": {
   "display_name": "Python 3",
   "language": "python",
   "name": "python3"
  },
  "language_info": {
   "codemirror_mode": {
    "name": "ipython",
    "version": 3
   },
   "file_extension": ".py",
   "mimetype": "text/x-python",
   "name": "python",
   "nbconvert_exporter": "python",
   "pygments_lexer": "ipython3",
   "version": "3.7.6"
  }
 },
 "nbformat": 4,
 "nbformat_minor": 2
}
