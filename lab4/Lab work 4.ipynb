{
 "cells": [
  {
   "attachments": {},
   "cell_type": "markdown",
   "metadata": {},
   "source": [
    "___\n",
    "\n",
    "<a href='https://mainacademy.ua/'> <img src='https://mainacademy.ua/wp-content/uploads/2019/03/logo-main.png' alt = 'Хмм, щось з інтернетом'/></a>\n",
    "___\n",
    "\n",
    "# Module 4: Work with data professionally!"
   ]
  },
  {
   "cell_type": "markdown",
   "metadata": {},
   "source": [
    "## Lab work 4\n",
    "\n"
   ]
  },
  {
   "cell_type": "markdown",
   "metadata": {},
   "source": [
    "#### Мета: \n",
    "\n",
    "* навчитися обробляти дані\n",
    "* \"парсити\" сайти"
   ]
  },
  {
   "cell_type": "markdown",
   "metadata": {},
   "source": [
    "### Завдання 1:"
   ]
  },
  {
   "attachments": {},
   "cell_type": "markdown",
   "metadata": {},
   "source": [
    "#### Ознайомитися із API Національного банку \n",
    "https://bank.gov.ua/ua/open-data/api-dev\n",
    "\n"
   ]
  },
  {
   "cell_type": "markdown",
   "metadata": {},
   "source": [
    "1. Підключитися до API.\n"
   ]
  },
  {
   "cell_type": "code",
   "execution_count": 192,
   "metadata": {},
   "outputs": [],
   "source": [
    "import requests\n",
    "import json\n",
    "import datetime\n",
    "import pprint\n",
    "import math\n",
    "import pickle\n",
    "\n",
    "pp = pprint.PrettyPrinter(sort_dicts=True)\n",
    "\n",
    "def get_exchange_rate_for_period(start, end, currency = 'usd'):\n",
    "  return requests.get(f'https://bank.gov.ua/NBU_Exchange/exchange_site?start={start}&end={end}&valcode={currency}&sort=exchangedate&order=asc&json')\n",
    "\n",
    "def get_average(data):\n",
    "  result = sum(row['rate_per_unit'] for row in data) / len(data)\n",
    "  return round(result, 2)"
   ]
  },
  {
   "cell_type": "markdown",
   "metadata": {},
   "source": [
    "2. Отримати курс долара за останній рік."
   ]
  },
  {
   "cell_type": "code",
   "execution_count": 152,
   "metadata": {},
   "outputs": [
    {
     "name": "stdout",
     "output_type": "stream",
     "text": [
      "Usd average for the priod: 2022-03-06 - 2023-03-06 is 33.83\n"
     ]
    }
   ],
   "source": [
    "date_format = '%Y%m%d'\n",
    "date_formatted = '%Y-%m-%d'\n",
    "current_date = datetime.datetime.now().strftime(date_format)\n",
    "\n",
    "year_ago = datetime.datetime.now() - datetime.timedelta(days=365)\n",
    "year_ago_formatted = year_ago.strftime(date_format)\n",
    "\n",
    "usd_data = get_exchange_rate_for_period(year_ago_formatted, current_date).json()\n",
    "usd_price_for_year = get_average(usd_data)\n",
    "\n",
    "# print(json.dumps(usd_data, indent=4))\n",
    "print(f'Usd average for the priod: {year_ago.strftime(date_formatted)} - {datetime.datetime.now().strftime(date_formatted)} is {usd_price_for_year}')"
   ]
  },
  {
   "cell_type": "markdown",
   "metadata": {},
   "source": [
    "3. Вивести середнє значення та відхилення курсу за кожний місяць."
   ]
  },
  {
   "cell_type": "code",
   "execution_count": 205,
   "metadata": {},
   "outputs": [],
   "source": [
    "months_dict = {}\n",
    "usd_average_months = {}\n",
    "period = 12\n",
    "\n",
    "def get_previous_month_date(today):\n",
    "  first = today.replace(day=1)\n",
    "  last_month = first - datetime.timedelta(days=1)\n",
    "  return last_month\n",
    "\n",
    "current = datetime.datetime.now()\n",
    "previous = ''\n",
    "\n",
    "for i in range(period):\n",
    "  previous = get_previous_month_date(current)\n",
    "  previous_start = previous.replace(day=1).strftime(date_format)\n",
    "  previous_end = previous.strftime(date_format)\n",
    "  start_format = previous.replace(day=1).strftime(date_formatted)\n",
    "  end_format = previous.strftime(date_formatted)\n",
    "\n",
    "  months_dict[f'{start_format} - {end_format}'] = get_exchange_rate_for_period(f'{previous_start}', f'{previous_end}').json()\n",
    "  \n",
    "  current = previous\n",
    "\n",
    "average = 0\n",
    "\n",
    "for key, value in months_dict.items():\n",
    "  usd_average_months[key] = get_average(value)\n",
    "  average += get_average(value)\n",
    "\n",
    "usd_average_price = average / len(months_dict)\n",
    "\n",
    "average_prices_sum = 0\n",
    "\n",
    "for key, value in usd_average_months.items():\n",
    "  average_prices_sum += (value - usd_average_price) ** 2\n",
    "\n",
    "deviation = math.sqrt(average_prices_sum / len(usd_average_months))\n",
    "\n",
    "usd_average_months.update({'deviation': round(deviation, 2)})\n"
   ]
  },
  {
   "cell_type": "markdown",
   "metadata": {},
   "source": [
    "4. Дану інформацію записати у файл за допомогою pickle."
   ]
  },
  {
   "cell_type": "code",
   "execution_count": 206,
   "metadata": {},
   "outputs": [
    {
     "name": "stdout",
     "output_type": "stream",
     "text": [
      "{'2022-03-01 - 2022-03-31': 29.25,\n",
      " '2022-04-01 - 2022-04-30': 29.25,\n",
      " '2022-05-01 - 2022-05-31': 29.25,\n",
      " '2022-06-01 - 2022-06-30': 29.25,\n",
      " '2022-07-01 - 2022-07-31': 31.85,\n",
      " '2022-08-01 - 2022-08-31': 36.57,\n",
      " '2022-09-01 - 2022-09-30': 36.57,\n",
      " '2022-10-01 - 2022-10-31': 36.57,\n",
      " '2022-11-01 - 2022-11-30': 36.57,\n",
      " '2022-12-01 - 2022-12-31': 36.57,\n",
      " '2023-01-01 - 2023-01-31': 36.57,\n",
      " '2023-02-01 - 2023-02-28': 36.57,\n",
      " 'deviation': 3.42}\n"
     ]
    }
   ],
   "source": [
    "with open('./usd_price_info.pickle', 'wb') as handle:\n",
    "  pickle.dump(usd_average_months, handle, protocol=pickle.HIGHEST_PROTOCOL)\n",
    "\n",
    "with open('./usd_price_info.pickle', 'rb') as handle:\n",
    "  pickle_data = pickle.load(handle)\n",
    "\n",
    "pp.pprint(pickle_data)"
   ]
  },
  {
   "cell_type": "markdown",
   "metadata": {},
   "source": [
    "### Завдання 2:"
   ]
  },
  {
   "cell_type": "markdown",
   "metadata": {},
   "source": [
    "Потрібно проаналізувати всі товари на сайті: \n",
    "https://smallpacking.agrosem.ua/shop/"
   ]
  },
  {
   "cell_type": "markdown",
   "metadata": {},
   "source": [
    "Створіть базу даних, що містить таблицю із такими стовбцями: \n",
    "    - артикул товару\n",
    "    - найменування\n",
    "    - ціна \n",
    "    - вага"
   ]
  },
  {
   "cell_type": "code",
   "execution_count": 96,
   "metadata": {},
   "outputs": [],
   "source": [
    "import requests\n",
    "from bs4 import BeautifulSoup\n",
    "import math\n",
    "\n",
    "shop_url = \"https://smallpacking.agrosem.ua/products/\"\n",
    "cookies = {'PHPSESSID': 'r0te1cu8bkq4aluljh0gvnn1uu'}\n",
    "shop_data = requests.get(shop_url, cookies=cookies)\n",
    "\n",
    "soup = BeautifulSoup(shop_data.text, 'html.parser')\n",
    "all_products_text = soup.find('div', class_='catalog_head').find_all('p', class_='products')\n",
    "\n",
    "products_per_page = 12\n",
    "all_products_length = [int(i) for i in all_products_text[0].text.split() if i.isdigit()][1]\n",
    "pages = all_products_length / products_per_page\n",
    "pages = math.ceil(pages)"
   ]
  },
  {
   "cell_type": "code",
   "execution_count": 103,
   "metadata": {},
   "outputs": [],
   "source": [
    "import json\n",
    "import re\n",
    "\n",
    "products = []\n",
    "\n",
    "def extract_weight(string):\n",
    "    match = re.search(r'\\d.*$', string)\n",
    "    return match.group() if match else ''\n",
    "\n",
    "def format_weight(weight):\n",
    "    format = r'\\d.* [кг|гр|л|мл|шт]+'\n",
    "    match = re.search(format, weight)\n",
    "    return match.group() if match else ''\n",
    "\n",
    "for i in range(pages):\n",
    "    parse_url = f'{shop_url}?page={i + 1}'\n",
    "    shop_data = requests.get(parse_url, cookies=cookies)\n",
    "    soup = BeautifulSoup(shop_data.text, 'html.parser')\n",
    "\n",
    "    products_items = soup.find(\n",
    "        'div', class_='items_wrap').find_all('div', class_='item')\n",
    "\n",
    "    for product in products_items:\n",
    "        content = product.get('content')\n",
    "        content = json.loads(content)\n",
    "        weight = extract_weight(content[\"name\"])\n",
    "        weight = format_weight(weight)\n",
    "        products.append((content[\"id\"], content[\"name\"], content[\"price\"], content[\"url\"], weight))"
   ]
  },
  {
   "cell_type": "code",
   "execution_count": 104,
   "metadata": {},
   "outputs": [],
   "source": [
    "import sqlite3\n",
    "\n",
    "con = sqlite3.connect('./agrosem-products.db')\n",
    "cur = con.cursor()\n",
    "\n",
    "cur.execute('''\n",
    "    CREATE TABLE IF NOT EXISTS products (\n",
    "        id INTEGER PRIMARY KEY AUTOINCREMENT,\n",
    "        product_id INTEGER,\n",
    "        name TEXT,\n",
    "        price REAL,\n",
    "        link TEXT,\n",
    "        weight TEXT\n",
    "    )\n",
    "''')\n",
    "            \n",
    "cur.executemany('''\n",
    "    INSERT INTO products (product_id, name, price, link, weight) VALUES (?, ?, ?, ?, ?)\n",
    "''', products)\n",
    "\n",
    "con.commit()\n",
    "\n",
    "con.close()\n"
   ]
  },
  {
   "cell_type": "markdown",
   "metadata": {},
   "source": [
    "### Завдання 3: "
   ]
  },
  {
   "cell_type": "markdown",
   "metadata": {},
   "source": [
    "Ознайомтеся із роботою SQLite та відповідним модулем у Python.\n",
    "Завантажте базу даних для виконання лабораторної роботи.\n",
    "Підключіться до завантаженої бази SQLite."
   ]
  },
  {
   "cell_type": "markdown",
   "metadata": {},
   "source": [
    "1. Виведіть інформацію про дану базу."
   ]
  },
  {
   "cell_type": "code",
   "execution_count": 19,
   "metadata": {},
   "outputs": [
    {
     "name": "stdout",
     "output_type": "stream",
     "text": [
      "[('table',\n",
      "  'Customers',\n",
      "  'Customers',\n",
      "  2,\n",
      "  'CREATE TABLE Customers\\n'\n",
      "  '(\\n'\n",
      "  '  cust_id      char(10)  NOT NULL ,\\n'\n",
      "  '  cust_name    char(50)  NOT NULL ,\\n'\n",
      "  '  cust_address char(50)  NULL ,\\n'\n",
      "  '  cust_city    char(50)  NULL ,\\n'\n",
      "  '  cust_state   char(5)   NULL ,\\n'\n",
      "  '  cust_zip     char(10)  NULL ,\\n'\n",
      "  '  cust_country char(50)  NULL ,\\n'\n",
      "  '  cust_contact char(50)  NULL ,\\n'\n",
      "  '  cust_email   char(255) NULL ,\\n'\n",
      "  '  PRIMARY KEY (cust_id)\\n'\n",
      "  ')'),\n",
      " ('table',\n",
      "  'OrderItems',\n",
      "  'OrderItems',\n",
      "  4,\n",
      "  'CREATE TABLE OrderItems\\n'\n",
      "  '(\\n'\n",
      "  '  order_num  int          NOT NULL                      ,\\n'\n",
      "  '  order_item int          NOT NULL                      ,\\n'\n",
      "  '  prod_id    char(10)     NOT NULL                      ,\\n'\n",
      "  '  quantity   int          NOT NULL                      ,\\n'\n",
      "  '  item_price decimal(8,2) NOT NULL                      ,\\n'\n",
      "  '  PRIMARY KEY (order_num, order_item)                   ,\\n'\n",
      "  '  FOREIGN KEY (order_num) REFERENCES Orders (order_num) ,\\n'\n",
      "  '  FOREIGN KEY (prod_id) REFERENCES Products (prod_id)\\n'\n",
      "  ')'),\n",
      " ('table',\n",
      "  'Orders',\n",
      "  'Orders',\n",
      "  7,\n",
      "  'CREATE TABLE Orders\\n'\n",
      "  '(\\n'\n",
      "  '  order_num  int      NOT NULL ,\\n'\n",
      "  '  order_date datetime NOT NULL ,\\n'\n",
      "  '  cust_id    char(10) NOT NULL ,\\n'\n",
      "  '  PRIMARY KEY (order_num)      ,\\n'\n",
      "  '  FOREIGN KEY (cust_id) REFERENCES Customers (cust_id)\\n'\n",
      "  ')'),\n",
      " ('table',\n",
      "  'Products',\n",
      "  'Products',\n",
      "  10,\n",
      "  'CREATE TABLE Products\\n'\n",
      "  '(\\n'\n",
      "  '  prod_id    char(10)      NOT NULL ,\\n'\n",
      "  '  vend_id    char(10)      NOT NULL ,\\n'\n",
      "  '  prod_name  char(255)     NOT NULL ,\\n'\n",
      "  '  prod_price decimal(8,2)  NOT NULL ,\\n'\n",
      "  '  prod_desc  text          NULL     ,\\n'\n",
      "  '  PRIMARY KEY (prod_id)             ,\\n'\n",
      "  '  FOREIGN KEY (vend_id) REFERENCES Vendors (vend_id)\\n'\n",
      "  ')'),\n",
      " ('table',\n",
      "  'Vendors',\n",
      "  'Vendors',\n",
      "  12,\n",
      "  'CREATE TABLE Vendors\\n'\n",
      "  '(\\n'\n",
      "  '  vend_id      char(10) NOT NULL ,\\n'\n",
      "  '  vend_name    char(50) NOT NULL ,\\n'\n",
      "  '  vend_address char(50) NULL     ,\\n'\n",
      "  '  vend_city    char(50) NULL     ,\\n'\n",
      "  '  vend_state   char(5)  NULL     ,\\n'\n",
      "  '  vend_zip     char(10) NULL     ,\\n'\n",
      "  '  vend_country char(50) NULL     ,\\n'\n",
      "  '  PRIMARY KEY (vend_id)\\n'\n",
      "  ')')]\n"
     ]
    }
   ],
   "source": [
    "import sqlite3\n",
    "import pprint as pp\n",
    "\n",
    "con = sqlite3.connect('./tysql.sqlite')\n",
    "\n",
    "sql = 'SELECT * FROM sqlite_master WHERE type=\"table\"'\n",
    "\n",
    "cur = con.cursor()\n",
    "cur.execute(sql)\n",
    "\n",
    "pp.pprint(cur.fetchall())"
   ]
  },
  {
   "cell_type": "markdown",
   "metadata": {},
   "source": [
    "2. Виведіть перелік всіх таблиць."
   ]
  },
  {
   "cell_type": "code",
   "execution_count": 21,
   "metadata": {},
   "outputs": [
    {
     "name": "stdout",
     "output_type": "stream",
     "text": [
      "[('Customers',), ('OrderItems',), ('Orders',), ('Products',), ('Vendors',)]\n"
     ]
    }
   ],
   "source": [
    "sql = 'SELECT name FROM sqlite_master WHERE type=\"table\"'\n",
    "\n",
    "cur.execute(sql)\n",
    "\n",
    "pp.pprint(cur.fetchall())\n"
   ]
  },
  {
   "attachments": {},
   "cell_type": "markdown",
   "metadata": {},
   "source": [
    "3. Список всіх cust_id з таблиці Customers table."
   ]
  },
  {
   "cell_type": "code",
   "execution_count": 22,
   "metadata": {},
   "outputs": [
    {
     "name": "stdout",
     "output_type": "stream",
     "text": [
      "[('1000000001',),\n",
      " ('1000000002',),\n",
      " ('1000000003',),\n",
      " ('1000000004',),\n",
      " ('1000000005',)]\n"
     ]
    }
   ],
   "source": [
    "sql = 'SELECT cust_id FROM Customers'\n",
    "\n",
    "cur.execute(sql)\n",
    "\n",
    "pp.pprint(cur.fetchall())"
   ]
  },
  {
   "attachments": {},
   "cell_type": "markdown",
   "metadata": {},
   "source": [
    "4. Всю таблицю Customers table"
   ]
  },
  {
   "cell_type": "code",
   "execution_count": 23,
   "metadata": {},
   "outputs": [
    {
     "name": "stdout",
     "output_type": "stream",
     "text": [
      "[('1000000001',\n",
      "  'Village Toys',\n",
      "  '200 Maple Lane',\n",
      "  'Detroit',\n",
      "  'MI',\n",
      "  '44444',\n",
      "  'USA',\n",
      "  'John Smith',\n",
      "  'sales@villagetoys.com'),\n",
      " ('1000000002',\n",
      "  'Kids Place',\n",
      "  '333 South Lake Drive',\n",
      "  'Columbus',\n",
      "  'OH',\n",
      "  '43333',\n",
      "  'USA',\n",
      "  'Michelle Green',\n",
      "  None),\n",
      " ('1000000003',\n",
      "  'Fun4All',\n",
      "  '1 Sunny Place',\n",
      "  'Muncie',\n",
      "  'IN',\n",
      "  '42222',\n",
      "  'USA',\n",
      "  'Jim Jones',\n",
      "  'jjones@fun4all.com'),\n",
      " ('1000000004',\n",
      "  'Fun4All',\n",
      "  '829 Riverside Drive',\n",
      "  'Phoenix',\n",
      "  'AZ',\n",
      "  '88888',\n",
      "  'USA',\n",
      "  'Denise L. Stephens',\n",
      "  'dstephens@fun4all.com'),\n",
      " ('1000000005',\n",
      "  'The Toy Store',\n",
      "  '4545 53rd Street',\n",
      "  'Chicago',\n",
      "  'IL',\n",
      "  '54545',\n",
      "  'USA',\n",
      "  'Kim Howard',\n",
      "  None)]\n"
     ]
    }
   ],
   "source": [
    "sql = 'SELECT * FROM Customers'\n",
    "\n",
    "cur.execute(sql)\n",
    "\n",
    "pp.pprint(cur.fetchall())"
   ]
  },
  {
   "attachments": {},
   "cell_type": "markdown",
   "metadata": {},
   "source": [
    "5. Список клієнтів (cust_names) відсортованих від Z до A"
   ]
  },
  {
   "cell_type": "code",
   "execution_count": 29,
   "metadata": {},
   "outputs": [
    {
     "name": "stdout",
     "output_type": "stream",
     "text": [
      "[('Village Toys',),\n",
      " ('The Toy Store',),\n",
      " ('Kids Place',),\n",
      " ('Fun4All',),\n",
      " ('Fun4All',)]\n"
     ]
    }
   ],
   "source": [
    "sql = 'SELECT cust_name FROM Customers ORDER BY cust_name DESC'\n",
    "\n",
    "cur.execute(sql)\n",
    "\n",
    "pp.pprint(cur.fetchall())"
   ]
  },
  {
   "cell_type": "markdown",
   "metadata": {},
   "source": [
    "6. Таблицю клієнтів та замовлень (cust_id і order_num) . Відсортуйте по клієнту і потім по даті замовлення"
   ]
  },
  {
   "cell_type": "code",
   "execution_count": 32,
   "metadata": {},
   "outputs": [
    {
     "name": "stdout",
     "output_type": "stream",
     "text": [
      "[('1000000001',\n",
      "  'Village Toys',\n",
      "  '200 Maple Lane',\n",
      "  'Detroit',\n",
      "  'MI',\n",
      "  '44444',\n",
      "  'USA',\n",
      "  'John Smith',\n",
      "  'sales@villagetoys.com'),\n",
      " ('1000000002',\n",
      "  'Kids Place',\n",
      "  '333 South Lake Drive',\n",
      "  'Columbus',\n",
      "  'OH',\n",
      "  '43333',\n",
      "  'USA',\n",
      "  'Michelle Green',\n",
      "  None),\n",
      " ('1000000003',\n",
      "  'Fun4All',\n",
      "  '1 Sunny Place',\n",
      "  'Muncie',\n",
      "  'IN',\n",
      "  '42222',\n",
      "  'USA',\n",
      "  'Jim Jones',\n",
      "  'jjones@fun4all.com'),\n",
      " ('1000000004',\n",
      "  'Fun4All',\n",
      "  '829 Riverside Drive',\n",
      "  'Phoenix',\n",
      "  'AZ',\n",
      "  '88888',\n",
      "  'USA',\n",
      "  'Denise L. Stephens',\n",
      "  'dstephens@fun4all.com'),\n",
      " ('1000000005',\n",
      "  'The Toy Store',\n",
      "  '4545 53rd Street',\n",
      "  'Chicago',\n",
      "  'IL',\n",
      "  '54545',\n",
      "  'USA',\n",
      "  'Kim Howard',\n",
      "  None)]\n",
      "[(20005, '2012-05-01', '1000000001'),\n",
      " (20006, '2012-01-12', '1000000003'),\n",
      " (20007, '2012-01-30', '1000000004'),\n",
      " (20008, '2012-02-03', '1000000005'),\n",
      " (20009, '2012-02-08', '1000000001')]\n"
     ]
    }
   ],
   "source": [
    "sql = 'SELECT * FROM Customers ORDER BY cust_id ASC'\n",
    "\n",
    "cur.execute(sql)\n",
    "\n",
    "pp.pprint(cur.fetchall())\n",
    "\n",
    "sql = 'SELECT * FROM Orders ORDER BY order_num ASC'\n",
    "\n",
    "cur.execute(sql)\n",
    "\n",
    "pp.pprint(cur.fetchall())"
   ]
  },
  {
   "cell_type": "markdown",
   "metadata": {},
   "source": [
    "7. Таблицю (на основі Items) з кількість та вартістю товару. Відсортуйте в порядку спадання по кількості та вартості"
   ]
  },
  {
   "cell_type": "code",
   "execution_count": 36,
   "metadata": {},
   "outputs": [
    {
     "name": "stdout",
     "output_type": "stream",
     "text": [
      "[(5, 4.99),\n",
      " (5, 11.99),\n",
      " (10, 3.49),\n",
      " (10, 3.49),\n",
      " (10, 3.49),\n",
      " (10, 8.99),\n",
      " (10, 11.99),\n",
      " (20, 5.99),\n",
      " (50, 4.49),\n",
      " (50, 11.49),\n",
      " (100, 2.99),\n",
      " (100, 2.99),\n",
      " (100, 2.99),\n",
      " (100, 5.49),\n",
      " (100, 10.99),\n",
      " (250, 2.49),\n",
      " (250, 2.49),\n",
      " (250, 2.49)]\n"
     ]
    }
   ],
   "source": [
    "sql = 'SELECT quantity, item_price FROM OrderItems ORDER BY quantity ASC, item_price ASC'\n",
    "\n",
    "cur.execute(sql)\n",
    "\n",
    "pp.pprint(cur.fetchall())"
   ]
  },
  {
   "cell_type": "markdown",
   "metadata": {},
   "source": [
    "8. Товар (з таблиці Products), ціна якого становить 9.49"
   ]
  },
  {
   "cell_type": "code",
   "execution_count": 37,
   "metadata": {},
   "outputs": [
    {
     "name": "stdout",
     "output_type": "stream",
     "text": [
      "[('RYL01',\n",
      "  'FNG01',\n",
      "  'King doll',\n",
      "  9.49,\n",
      "  '12 inch king doll with royal garments and crown'),\n",
      " ('RYL02',\n",
      "  'FNG01',\n",
      "  'Queen doll',\n",
      "  9.49,\n",
      "  '12 inch queen doll with royal garments and crown')]\n"
     ]
    }
   ],
   "source": [
    "sql = 'SELECT * FROM Products WHERE prod_price = 9.49'\n",
    "\n",
    "cur.execute(sql)\n",
    "\n",
    "pp.pprint(cur.fetchall())"
   ]
  },
  {
   "cell_type": "markdown",
   "metadata": {},
   "source": [
    "9. Виведіть назву товару та ціну, яка лежить в діапазоні від  3 до 6. Відсортуйте результат в по ціні в порядку зростання"
   ]
  },
  {
   "cell_type": "code",
   "execution_count": 38,
   "metadata": {},
   "outputs": [
    {
     "name": "stdout",
     "output_type": "stream",
     "text": [
      "[('Fish bean bag toy', 3.49),\n",
      " ('Bird bean bag toy', 3.49),\n",
      " ('Rabbit bean bag toy', 3.49),\n",
      " ('Raggedy Ann', 4.99),\n",
      " ('8 inch teddy bear', 5.99)]\n"
     ]
    }
   ],
   "source": [
    "sql = 'SELECT prod_name, prod_price FROM Products WHERE prod_price BETWEEN 3 AND 6 ORDER BY prod_price ASC'\n",
    "\n",
    "cur.execute(sql)\n",
    "\n",
    "pp.pprint(cur.fetchall())"
   ]
  },
  {
   "cell_type": "markdown",
   "metadata": {},
   "source": [
    "10. Кількість товару, що було продано"
   ]
  },
  {
   "cell_type": "code",
   "execution_count": 40,
   "metadata": {},
   "outputs": [
    {
     "name": "stdout",
     "output_type": "stream",
     "text": [
      "[(5,)]\n"
     ]
    }
   ],
   "source": [
    "sql = 'SELECT count(*) FROM Orders'\n",
    "\n",
    "cur.execute(sql)\n",
    "\n",
    "pp.pprint(cur.fetchall())"
   ]
  },
  {
   "cell_type": "markdown",
   "metadata": {},
   "source": [
    "11. Кількість найменувань товару, ціна якого більша за 4"
   ]
  },
  {
   "cell_type": "code",
   "execution_count": 41,
   "metadata": {},
   "outputs": [
    {
     "name": "stdout",
     "output_type": "stream",
     "text": [
      "[(6,)]\n"
     ]
    }
   ],
   "source": [
    "sql = 'SELECT count(prod_name) FROM Products WHERE prod_price > 4'\n",
    "\n",
    "cur.execute(sql)\n",
    "\n",
    "pp.pprint(cur.fetchall())"
   ]
  },
  {
   "cell_type": "markdown",
   "metadata": {},
   "source": [
    "12. Розробіть алгоритм для виведення 3 найдорожчих товарів в базі"
   ]
  },
  {
   "cell_type": "code",
   "execution_count": 47,
   "metadata": {},
   "outputs": [
    {
     "name": "stdout",
     "output_type": "stream",
     "text": [
      "[('18 inch teddy bear', 11.99), ('King doll', 9.49), ('Queen doll', 9.49)]\n"
     ]
    }
   ],
   "source": [
    "sql = 'SELECT prod_name, prod_price FROM Products ORDER BY prod_price DESC LIMIT 3'\n",
    "\n",
    "cur.execute(sql)\n",
    "\n",
    "pp.pprint(cur.fetchall())"
   ]
  },
  {
   "cell_type": "markdown",
   "metadata": {},
   "source": [
    "13. Підрахуйте кількість замовлень для кожного клієнта використовуючи підзапити"
   ]
  },
  {
   "cell_type": "code",
   "execution_count": 52,
   "metadata": {},
   "outputs": [
    {
     "name": "stdout",
     "output_type": "stream",
     "text": [
      "[('Village Toys', 2),\n",
      " ('Fun4All', 1),\n",
      " ('Fun4All', 1),\n",
      " ('The Toy Store', 1),\n",
      " ('Kids Place', 0)]\n"
     ]
    }
   ],
   "source": [
    "sql = \"\"\"\n",
    "SELECT \n",
    "    cust_name, \n",
    "    (\n",
    "        SELECT count(order_num)\n",
    "        FROM Orders\n",
    "        WHERE Orders.cust_id = Customers.cust_id\n",
    "    )\n",
    "    customer_orders_count\n",
    "FROM \n",
    "    Customers\n",
    "ORDER BY customer_orders_count DESC\n",
    "\"\"\"\n",
    "\n",
    "cur.execute(sql)\n",
    "\n",
    "pp.pprint(cur.fetchall())"
   ]
  },
  {
   "cell_type": "markdown",
   "metadata": {},
   "source": [
    "14. Виведіть список клієнтів та їх замовлення (використайте JOIN)"
   ]
  },
  {
   "cell_type": "code",
   "execution_count": 61,
   "metadata": {},
   "outputs": [
    {
     "name": "stdout",
     "output_type": "stream",
     "text": [
      "[('Village Toys', 20005),\n",
      " ('Fun4All', 20006),\n",
      " ('Fun4All', 20007),\n",
      " ('The Toy Store', 20008),\n",
      " ('Village Toys', 20009)]\n"
     ]
    }
   ],
   "source": [
    "sql = \"\"\"\n",
    "SELECT\n",
    "    cust_name,\n",
    "    order_num\n",
    "FROM\n",
    "    Customers\n",
    "INNER JOIN Orders\n",
    "    ON Customers.cust_id = Orders.cust_id\n",
    "\"\"\"\n",
    "\n",
    "cur.execute(sql)\n",
    "\n",
    "pp.pprint(cur.fetchall())"
   ]
  },
  {
   "cell_type": "markdown",
   "metadata": {},
   "source": [
    "15. Зробіть два запити: список товарів, ціна яких менша 5 та список товарів, ціна який більша рівна 5. Використайте UNION для об'єднання цих запитів"
   ]
  },
  {
   "cell_type": "code",
   "execution_count": 67,
   "metadata": {},
   "outputs": [
    {
     "name": "stdout",
     "output_type": "stream",
     "text": [
      "[('18 inch teddy bear', 11.99),\n",
      " ('King doll', 9.49),\n",
      " ('Queen doll', 9.49),\n",
      " ('12 inch teddy bear', 8.99),\n",
      " ('8 inch teddy bear', 5.99),\n",
      " ('Raggedy Ann', 4.99),\n",
      " ('Bird bean bag toy', 3.49),\n",
      " ('Fish bean bag toy', 3.49),\n",
      " ('Rabbit bean bag toy', 3.49)]\n"
     ]
    }
   ],
   "source": [
    "sql = \"\"\"\n",
    "SELECT\n",
    "    prod_name,\n",
    "    prod_price\n",
    "FROM\n",
    "    Products\n",
    "WHERE\n",
    "    prod_price < 5\n",
    "\n",
    "UNION\n",
    "\n",
    "SELECT\n",
    "    prod_name,\n",
    "    prod_price\n",
    "FROM\n",
    "    Products\n",
    "WHERE\n",
    "    prod_price >= 5\n",
    "\n",
    "ORDER BY prod_price DESC\n",
    "\"\"\"\n",
    "\n",
    "cur.execute(sql)\n",
    "\n",
    "pp.pprint(cur.fetchall())\n",
    "\n",
    "con.close()"
   ]
  },
  {
   "cell_type": "markdown",
   "metadata": {},
   "source": [
    "### Завдання 4: "
   ]
  },
  {
   "attachments": {},
   "cell_type": "markdown",
   "metadata": {},
   "source": [
    "Зареєструйтеся на сайті  http://www.sql-ex.ru/\n",
    "\n",
    "Виконайте завдання із блоку SELECT; з 1 по 30 завдання\n",
    "\n",
    "Код запитів вставляйте сюди"
   ]
  },
  {
   "cell_type": "code",
   "execution_count": 107,
   "metadata": {},
   "outputs": [
    {
     "data": {
      "text/plain": [
       "'\\n1:\\nSELECT model, speed, hd FROM pc WHERE price < 500\\n2:\\nSELECT DISTINCT maker FROM product WHERE type = \\'printer\\'\\n3:\\nSELECT model, ram, screen FROM laptop WHERE price > 1000\\n4:\\nSELECT * from printer WHERE color = \\'y\\'\\n5:\\nSELECT model, speed, hd from pc WHERE price < 600 AND (cd = \\'12x\\' OR cd = \\'24x\\')\\n6:\\nSELECT Maker, Speed FROM laptop \\nINNER JOIN product ON laptop.model = product.model\\nWHERE hd >= 10\\nGROUP BY maker, speed\\n\\n7: \\nSELECT DISTINCT products.model, products.price\\nFROM (\\n    SELECT model, price FROM pc\\n    UNION ALL\\n    SELECT model, price FROM printer\\n    UNION ALL\\n    SELECT model, price FROM laptop\\n) as products\\nINNER JOIN product ON products.model = product.model\\nWHERE product.maker = \"b\"\\n\\n8:\\nSELECT maker FROM product WHERE type = \\'pc\\'\\nEXCEPT\\nSELECT maker FROM product WHERE type = \\'laptop\\'\\n\\n9:\\nSELECT maker FROM product\\nINNER JOIN pc ON product.model = pc.model\\nWHERE pc.speed >= 450\\nGROUP BY maker\\n\\n10:\\nSELECT DISTINCT model, price FROM printer\\nWHERE price = (SELECT MAX(price) FROM printer)\\n\\n11:\\nSELECT AVG(speed) from PC\\n\\n12:\\nSELECT AVG(speed) FROM LAPTOP WHERE price > 1000\\n\\n13:\\nSELECT AVG(speed) from PC\\nINNER JOIN product ON pc.model = product.model\\nWHERE maker = \\'a\\'\\n\\n14:\\nSELECT classes.class, ships.name, classes.country FROM SHIPS\\nINNER JOIN classes ON classes.class = ships.class\\nWHERE classes.numGuns >= 10\\n\\n'"
      ]
     },
     "execution_count": 107,
     "metadata": {},
     "output_type": "execute_result"
    }
   ],
   "source": [
    "\"\"\"\n",
    "1:\n",
    "SELECT model, speed, hd FROM pc WHERE price < 500\n",
    "2:\n",
    "SELECT DISTINCT maker FROM product WHERE type = 'printer'\n",
    "3:\n",
    "SELECT model, ram, screen FROM laptop WHERE price > 1000\n",
    "4:\n",
    "SELECT * from printer WHERE color = 'y'\n",
    "5:\n",
    "SELECT model, speed, hd from pc WHERE price < 600 AND (cd = '12x' OR cd = '24x')\n",
    "6:\n",
    "SELECT Maker, Speed FROM laptop \n",
    "INNER JOIN product ON laptop.model = product.model\n",
    "WHERE hd >= 10\n",
    "GROUP BY maker, speed\n",
    "\n",
    "7: \n",
    "SELECT DISTINCT products.model, products.price\n",
    "FROM (\n",
    "    SELECT model, price FROM pc\n",
    "    UNION ALL\n",
    "    SELECT model, price FROM printer\n",
    "    UNION ALL\n",
    "    SELECT model, price FROM laptop\n",
    ") as products\n",
    "INNER JOIN product ON products.model = product.model\n",
    "WHERE product.maker = \"b\"\n",
    "\n",
    "8:\n",
    "SELECT maker FROM product WHERE type = 'pc'\n",
    "EXCEPT\n",
    "SELECT maker FROM product WHERE type = 'laptop'\n",
    "\n",
    "9:\n",
    "SELECT maker FROM product\n",
    "INNER JOIN pc ON product.model = pc.model\n",
    "WHERE pc.speed >= 450\n",
    "GROUP BY maker\n",
    "\n",
    "10:\n",
    "SELECT DISTINCT model, price FROM printer\n",
    "WHERE price = (SELECT MAX(price) FROM printer)\n",
    "\n",
    "11:\n",
    "SELECT AVG(speed) from PC\n",
    "\n",
    "12:\n",
    "SELECT AVG(speed) FROM LAPTOP WHERE price > 1000\n",
    "\n",
    "13:\n",
    "SELECT AVG(speed) from PC\n",
    "INNER JOIN product ON pc.model = product.model\n",
    "WHERE maker = 'a'\n",
    "\n",
    "14:\n",
    "SELECT classes.class, ships.name, classes.country FROM SHIPS\n",
    "INNER JOIN classes ON classes.class = ships.class\n",
    "WHERE classes.numGuns >= 10\n",
    "\n",
    "\n",
    "15: \n",
    "SELECT hd FROM PC\n",
    "GROUP BY hd\n",
    "HAVING COUNT(model) > 1\n",
    "\n",
    "\"\"\""
   ]
  },
  {
   "cell_type": "code",
   "execution_count": 109,
   "metadata": {},
   "outputs": [
    {
     "data": {
      "text/plain": [
       "\"\\n15: \\nSELECT hd FROM PC\\nGROUP BY hd\\nHAVING COUNT(model) > 1\\n\\n16:\\nSELECT DISTINCT p1.model, p2.model, p1.speed, p1.ram FROM PC as p1\\nINNER JOIN pc as p2 on p1.model <> p2.model\\nWHERE \\np1.speed = p2.speed\\nAND\\np1.ram = p2.ram\\nAND\\np1.model > p2.model\\n\\n17:\\nSELECT DISTINCT p.type, l.model, l.speed from laptop as l\\nINNER JOIN product as p ON l.model = p.model\\nWHERE l.speed < ALL(SELECT speed FROM PC)\\n\\n18:\\nSELECT DISTINCT c.maker, a.minPrice as price\\nFROM (SELECT MIN(price) as minPrice \\n      FROM Printer \\n      WHERE color = 'y'\\n      ) as a \\nINNER JOIN Printer as b ON a.minPrice = b.price\\nINNER JOIN Product as c ON b.model = c.model\\nWHERE color = 'y'\\n\\n19:\\nSELECT p.maker, AVG(screen) as average\\nFROM laptop as l\\nINNER JOIN product as p ON p.model = l.model\\nGROUP BY maker\\n\""
      ]
     },
     "execution_count": 109,
     "metadata": {},
     "output_type": "execute_result"
    }
   ],
   "source": [
    "\n",
    "\"\"\"\n",
    "16:\n",
    "SELECT DISTINCT p1.model, p2.model, p1.speed, p1.ram FROM PC as p1\n",
    "INNER JOIN pc as p2 on p1.model <> p2.model\n",
    "WHERE \n",
    "p1.speed = p2.speed\n",
    "AND\n",
    "p1.ram = p2.ram\n",
    "AND\n",
    "p1.model > p2.model\n",
    "\n",
    "17:\n",
    "SELECT DISTINCT p.type, l.model, l.speed from laptop as l\n",
    "INNER JOIN product as p ON l.model = p.model\n",
    "WHERE l.speed < ALL(SELECT speed FROM PC)\n",
    "\n",
    "18:\n",
    "SELECT DISTINCT c.maker, a.minPrice as price\n",
    "FROM (SELECT MIN(price) as minPrice \n",
    "      FROM Printer \n",
    "      WHERE color = 'y'\n",
    "      ) as a \n",
    "INNER JOIN Printer as b ON a.minPrice = b.price\n",
    "INNER JOIN Product as c ON b.model = c.model\n",
    "WHERE color = 'y'\n",
    "\n",
    "19:\n",
    "SELECT p.maker, AVG(screen) as average\n",
    "FROM laptop as l\n",
    "INNER JOIN product as p ON p.model = l.model\n",
    "GROUP BY maker\n",
    "\n",
    "20:\n",
    "SELECT maker, count(model) as Count_Model FROM product\n",
    "WHERE type = 'pc'\n",
    "GROUP BY maker\n",
    "HAVING COUNT(model) >= 3\n",
    "\n",
    "21:\n",
    "SELECT maker, MAX(pc.price) as Max_price from product as p\n",
    "INNER JOIN pc ON p.model = pc.model\n",
    "GROUP BY maker\n",
    "\n",
    "22:\n",
    "SELECT speed, AVG(price) as avg_price FROM pc\n",
    "WHERE speed > 600\n",
    "GROUP BY speed\n",
    "\n",
    "23:\n",
    "SELECT maker FROM product\n",
    "INNER JOIN pc ON product.model = pc.model\n",
    "WHERE pc.speed >= 750\n",
    "\n",
    "INTERSECT\n",
    "\n",
    "SELECT maker FROM product\n",
    "INNER JOIN laptop as l ON product.model = l.model\n",
    "WHERE l.speed >= 750\n",
    "\n",
    "24:\n",
    "WITH All_products AS (\n",
    "SELECT price, model FROM pc\n",
    "UNION ALL SELECT price, model FROM laptop\n",
    "UNION ALL SELECT price, model FROM printer\n",
    ")\n",
    "SELECT model FROM All_products\n",
    "WHERE price = (SELECT MAX(price) FROM All_products)\n",
    "GROUP BY model\n",
    "\n",
    "25:\n",
    "SELECT maker FROM product as p\n",
    "WHERE type = 'printer'\n",
    "\n",
    "INTERSECT\n",
    "\n",
    "SELECT maker FROM product as p\n",
    "INNER JOIN pc ON pc.model = p.model\n",
    "WHERE type = 'pc'\n",
    "AND\n",
    "pc.speed IN (\n",
    "SELECT MAX(speed) FROM pc\n",
    "WHERE ram = (SELECT MIN(ram) FROM pc)\n",
    ")\n",
    "AND \n",
    "pc.ram = (SELECT MIN(ram) FROM pc) \n",
    "\n",
    "26:\n",
    "WITH prods as (\n",
    "SELECT pc.price, p.maker FROM pc\n",
    "INNER JOIN product as p ON p.model = pc.model\n",
    "UNION ALL\n",
    "SELECT l.price, p.maker FROM laptop as l\n",
    "INNER JOIN product as p ON p.model = l.model\n",
    ")\n",
    "SELECT AVG(price) FROM PRODS\n",
    "WHERE maker = 'a'\n",
    "\n",
    "27:\n",
    "WITH prods as (\n",
    "SELECT maker from product\n",
    "WHERE type = 'pc'\n",
    "\n",
    "INTERSECT\n",
    "\n",
    "SELECT maker from product\n",
    "WHERE type = 'printer'\n",
    ")\n",
    "\n",
    "SELECT maker, AVG(hd) FROM product\n",
    "INNER JOIN pc on product.model = pc.model\n",
    "WHERE maker in (SELECT maker FROM prods)\n",
    "GROUP BY maker\n",
    "\n",
    "28:\n",
    "SELECT count(maker) as qty FROM\n",
    "(\n",
    "SELECT maker FROM product\n",
    "GROUP BY maker\n",
    "HAVING count(model) = 1\n",
    ") as r\n",
    "\n",
    "29:\n",
    "SELECT i.point, i.date, i.inc, o.out\n",
    "FROM Income_o as i\n",
    "LEFT JOIN Outcome_o as o ON i.point = o.point AND i.date = o.date\n",
    "UNION\n",
    "SELECT o.point, o.date, i.inc, o.out\n",
    "FROM Outcome_o as o\n",
    "LEFT JOIN Income_o as i ON i.point = o.point AND i.date = o.date\n",
    "\n",
    "30:\n",
    "WITH SB(point, date, out, inc) AS (\n",
    "    SELECT point, date, null, inc\n",
    "        FROM income\n",
    "        UNION ALL\n",
    "        SELECT point, date, out, null\n",
    "        FROM outcome\n",
    ")\n",
    "\n",
    "SELECT point, date, SUM(out) as Outcome, SUM(inc) as Income\n",
    "FROM SB\n",
    "GROUP BY point, date\n",
    "\n",
    "\"\"\""
   ]
  },
  {
   "cell_type": "code",
   "execution_count": null,
   "metadata": {},
   "outputs": [],
   "source": []
  }
 ],
 "metadata": {
  "kernelspec": {
   "display_name": "Python 3",
   "language": "python",
   "name": "python3"
  },
  "language_info": {
   "codemirror_mode": {
    "name": "ipython",
    "version": 3
   },
   "file_extension": ".py",
   "mimetype": "text/x-python",
   "name": "python",
   "nbconvert_exporter": "python",
   "pygments_lexer": "ipython3",
   "version": "3.9.6"
  }
 },
 "nbformat": 4,
 "nbformat_minor": 2
}
