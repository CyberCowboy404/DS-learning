{
 "cells": [
  {
   "cell_type": "markdown",
   "id": "fde508d4",
   "metadata": {},
   "source": [
    "# 1. Markdown cells\n",
    "* Hi! Its Main Academy?\n",
    "* All HTML tabs are supported!\n",
    "* Моя сторінка [Linkedin](https://www.linkedin.com/in/nickolay-b-92589418b/)\n",
    "\n",
    "# This is Heading1\n",
    "##This is Heading2\n",
    "some gray colored text:\n",
    "> This is where we can bring quotes\n",
    "\n",
    "And this paragraph about math:\n",
    "<div style=\"text-align: right; font-weight: bold\"> y<sub>sub</sub> = $\\sqrt{}$(x<sub>sub</sub>) </div>\n",
    "\n",
    "```\n",
    "import matth\n",
    "def foo():\n",
    "    return \"foo\"\n",
    "```"
   ]
  },
  {
   "cell_type": "markdown",
   "id": "956ff5a3",
   "metadata": {},
   "source": []
  }
 ],
 "metadata": {
  "kernelspec": {
   "display_name": "Python 3 (ipykernel)",
   "language": "python",
   "name": "python3"
  },
  "language_info": {
   "codemirror_mode": {
    "name": "ipython",
    "version": 3
   },
   "file_extension": ".py",
   "mimetype": "text/x-python",
   "name": "python",
   "nbconvert_exporter": "python",
   "pygments_lexer": "ipython3",
   "version": "3.9.13"
  }
 },
 "nbformat": 4,
 "nbformat_minor": 5
}
