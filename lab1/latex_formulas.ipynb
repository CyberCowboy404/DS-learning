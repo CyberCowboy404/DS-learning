{
 "cells": [
  {
   "cell_type": "markdown",
   "id": "d09f2c9a",
   "metadata": {},
   "source": [
    "Here is the sample mean:\n",
    "\n",
    "$$ \\bar{y} = \\frac{1}{n} \\sum_{i=1}^{n}y_{i} $$\n",
    "\n",
    "Here is sample variance:\n",
    "\n",
    "$$ \\sigma = \\dfrac{\\sum\\limits_{i=1}^{n}(y_{i} - \\bar{y})^2}{n - 1} $$\n",
    "\n",
    "Here is sample standart deviation:\n",
    "\n",
    "$$ \\sigma = \\sqrt{\\dfrac{\\sum\\limits_{i=1}^{n}(y_{i} - \\bar{y})^2}{n - 1}} $$\n",
    "\n"
   ]
  },
  {
   "cell_type": "code",
   "execution_count": null,
   "id": "5785a9f6",
   "metadata": {},
   "outputs": [],
   "source": []
  }
 ],
 "metadata": {
  "kernelspec": {
   "display_name": "Python 3 (ipykernel)",
   "language": "python",
   "name": "python3"
  },
  "language_info": {
   "codemirror_mode": {
    "name": "ipython",
    "version": 3
   },
   "file_extension": ".py",
   "mimetype": "text/x-python",
   "name": "python",
   "nbconvert_exporter": "python",
   "pygments_lexer": "ipython3",
   "version": "3.9.13"
  }
 },
 "nbformat": 4,
 "nbformat_minor": 5
}
